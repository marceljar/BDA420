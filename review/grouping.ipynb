{
 "metadata": {
  "language_info": {
   "codemirror_mode": {
    "name": "ipython",
    "version": 3
   },
   "file_extension": ".py",
   "mimetype": "text/x-python",
   "name": "python",
   "nbconvert_exporter": "python",
   "pygments_lexer": "ipython3",
   "version": "3.8.1-final"
  },
  "orig_nbformat": 2,
  "kernelspec": {
   "name": "python3",
   "display_name": "Python 3"
  }
 },
 "nbformat": 4,
 "nbformat_minor": 2,
 "cells": [
  {
   "cell_type": "code",
   "execution_count": 32,
   "metadata": {},
   "outputs": [],
   "source": [
    "import pandas as pd"
   ]
  },
  {
   "cell_type": "code",
   "execution_count": 35,
   "metadata": {},
   "outputs": [],
   "source": [
    "students_dict = {\"name\" : [\"karen\", \"jean\", \"mohammed\", \"kim\"], \"gender\": [\"f\", \"m\", \"m\", \"f\"], \"lab 1\" : [3, 2.5, 2, 1.5], \"lab 2\" : [2.8,3.0, 2.8, 1.5], \"lab 3\" : [3,2.9, 2, 1.5], \"test 1\" : [10.0, 9.0, 6.5, None]}\n",
    "students = pd.DataFrame(students_dict)\n",
    "students.set_index(\"name\", inplace = True)"
   ]
  },
  {
   "cell_type": "code",
   "execution_count": 36,
   "metadata": {},
   "outputs": [
    {
     "output_type": "execute_result",
     "data": {
      "text/plain": [
       "        lab 1  lab 2  lab 3  test 1\n",
       "gender                             \n",
       "f           2      2      2       1\n",
       "m           2      2      2       2"
      ],
      "text/html": "<div>\n<style scoped>\n    .dataframe tbody tr th:only-of-type {\n        vertical-align: middle;\n    }\n\n    .dataframe tbody tr th {\n        vertical-align: top;\n    }\n\n    .dataframe thead th {\n        text-align: right;\n    }\n</style>\n<table border=\"1\" class=\"dataframe\">\n  <thead>\n    <tr style=\"text-align: right;\">\n      <th></th>\n      <th>lab 1</th>\n      <th>lab 2</th>\n      <th>lab 3</th>\n      <th>test 1</th>\n    </tr>\n    <tr>\n      <th>gender</th>\n      <th></th>\n      <th></th>\n      <th></th>\n      <th></th>\n    </tr>\n  </thead>\n  <tbody>\n    <tr>\n      <th>f</th>\n      <td>2</td>\n      <td>2</td>\n      <td>2</td>\n      <td>1</td>\n    </tr>\n    <tr>\n      <th>m</th>\n      <td>2</td>\n      <td>2</td>\n      <td>2</td>\n      <td>2</td>\n    </tr>\n  </tbody>\n</table>\n</div>"
     },
     "metadata": {},
     "execution_count": 36
    }
   ],
   "source": [
    "genders = students.groupby(students[\"gender\"]).count()\n",
    "genders.head()"
   ]
  },
  {
   "cell_type": "code",
   "execution_count": 2,
   "metadata": {},
   "outputs": [],
   "source": [
    "toronto = pd.read_csv(\"../data/Toronto.csv\", parse_dates=[\"Date\"], index_col=False)"
   ]
  },
  {
   "cell_type": "code",
   "execution_count": 15,
   "metadata": {},
   "outputs": [],
   "source": [
    "monthly = toronto.groupby([toronto['Date'].dt.year, toronto['Date'].dt.month])[\"Max Temperature\"].min()"
   ]
  },
  {
   "cell_type": "code",
   "execution_count": 16,
   "metadata": {},
   "outputs": [
    {
     "output_type": "execute_result",
     "data": {
      "text/plain": [
       "Date  Date\n",
       "1979  1       -9.133\n",
       "      2      -18.446\n",
       "      3       -4.840\n",
       "      4       -0.483\n",
       "      5        4.619\n",
       "      6       11.189\n",
       "      7       16.599\n",
       "      8       15.756\n",
       "      9       14.437\n",
       "      10       3.301\n",
       "      11       0.695\n",
       "      12      -5.023\n",
       "Name: Max Temperature, dtype: float64"
      ]
     },
     "metadata": {},
     "execution_count": 16
    }
   ],
   "source": [
    "monthly.head(12)"
   ]
  },
  {
   "cell_type": "code",
   "execution_count": null,
   "metadata": {},
   "outputs": [],
   "source": []
  }
 ]
}