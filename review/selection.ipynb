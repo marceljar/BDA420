{
 "metadata": {
  "language_info": {
   "codemirror_mode": {
    "name": "ipython",
    "version": 3
   },
   "file_extension": ".py",
   "mimetype": "text/x-python",
   "name": "python",
   "nbconvert_exporter": "python",
   "pygments_lexer": "ipython3",
   "version": "3.8.1-final"
  },
  "orig_nbformat": 2,
  "kernelspec": {
   "name": "python3",
   "display_name": "Python 3"
  }
 },
 "nbformat": 4,
 "nbformat_minor": 2,
 "cells": [
  {
   "cell_type": "code",
   "execution_count": 1,
   "metadata": {},
   "outputs": [],
   "source": [
    "import pandas as pd\n",
    "import numpy as np"
   ]
  },
  {
   "cell_type": "code",
   "execution_count": 2,
   "metadata": {},
   "outputs": [],
   "source": [
    "toronto = pd.read_csv(\"../data/Toronto.csv\", parse_dates=[\"Date\"], index_col=False)"
   ]
  },
  {
   "cell_type": "code",
   "execution_count": 3,
   "metadata": {},
   "outputs": [
    {
     "output_type": "execute_result",
     "data": {
      "text/plain": [
       "         Date  Longitude   Latitude  Elevation  Max Temperature  \\\n",
       "0  1979-01-01    -79.375  43.555901         75            7.856   \n",
       "1  1979-01-02    -79.375  43.555901         75           -2.738   \n",
       "2  1979-01-03    -79.375  43.555901         75           -7.212   \n",
       "3  1979-01-04    -79.375  43.555901         75           -8.569   \n",
       "4  1979-01-05    -79.375  43.555901         75           -9.133   \n",
       "5  1979-01-06    -79.375  43.555901         75           -5.491   \n",
       "6  1979-01-07    -79.375  43.555901         75           -5.457   \n",
       "7  1979-01-08    -79.375  43.555901         75           -4.451   \n",
       "8  1979-01-09    -79.375  43.555901         75           -7.570   \n",
       "9  1979-01-10    -79.375  43.555901         75           -7.229   \n",
       "10 1979-01-11    -79.375  43.555901         75           -8.210   \n",
       "11 1979-01-12    -79.375  43.555901         75           -5.769   \n",
       "12 1979-01-13    -79.375  43.555901         75            2.143   \n",
       "13 1979-01-14    -79.375  43.555901         75            3.107   \n",
       "14 1979-01-15    -79.375  43.555901         75           -6.941   \n",
       "15 1979-01-16    -79.375  43.555901         75           -5.889   \n",
       "16 1979-01-17    -79.375  43.555901         75            0.352   \n",
       "17 1979-01-18    -79.375  43.555901         75           -3.959   \n",
       "18 1979-01-19    -79.375  43.555901         75           -7.307   \n",
       "19 1979-01-20    -79.375  43.555901         75            1.198   \n",
       "20 1979-01-21    -79.375  43.555901         75           -0.112   \n",
       "21 1979-01-22    -79.375  43.555901         75           -0.992   \n",
       "22 1979-01-23    -79.375  43.555901         75           -0.229   \n",
       "23 1979-01-24    -79.375  43.555901         75            2.612   \n",
       "24 1979-01-25    -79.375  43.555901         75            2.048   \n",
       "25 1979-01-26    -79.375  43.555901         75            1.595   \n",
       "26 1979-01-27    -79.375  43.555901         75            1.565   \n",
       "27 1979-01-28    -79.375  43.555901         75            1.594   \n",
       "28 1979-01-29    -79.375  43.555901         75           -1.738   \n",
       "29 1979-01-30    -79.375  43.555901         75           -2.060   \n",
       "30 1979-01-31    -79.375  43.555901         75           -4.691   \n",
       "\n",
       "    Min Temperature  \n",
       "0            -2.359  \n",
       "1            -6.021  \n",
       "2           -12.742  \n",
       "3           -10.751  \n",
       "4           -13.273  \n",
       "5            -9.825  \n",
       "6            -7.792  \n",
       "7            -9.121  \n",
       "8           -11.125  \n",
       "9           -13.881  \n",
       "10          -13.821  \n",
       "11          -10.719  \n",
       "12           -5.681  \n",
       "13           -6.764  \n",
       "14          -11.777  \n",
       "15           -9.783  \n",
       "16           -8.805  \n",
       "17          -16.686  \n",
       "18          -16.174  \n",
       "19           -7.424  \n",
       "20           -3.815  \n",
       "21           -2.944  \n",
       "22           -3.118  \n",
       "23           -1.983  \n",
       "24            0.808  \n",
       "25            0.787  \n",
       "26            0.248  \n",
       "27           -1.899  \n",
       "28           -3.078  \n",
       "29           -4.491  \n",
       "30           -8.699  "
      ],
      "text/html": "<div>\n<style scoped>\n    .dataframe tbody tr th:only-of-type {\n        vertical-align: middle;\n    }\n\n    .dataframe tbody tr th {\n        vertical-align: top;\n    }\n\n    .dataframe thead th {\n        text-align: right;\n    }\n</style>\n<table border=\"1\" class=\"dataframe\">\n  <thead>\n    <tr style=\"text-align: right;\">\n      <th></th>\n      <th>Date</th>\n      <th>Longitude</th>\n      <th>Latitude</th>\n      <th>Elevation</th>\n      <th>Max Temperature</th>\n      <th>Min Temperature</th>\n    </tr>\n  </thead>\n  <tbody>\n    <tr>\n      <th>0</th>\n      <td>1979-01-01</td>\n      <td>-79.375</td>\n      <td>43.555901</td>\n      <td>75</td>\n      <td>7.856</td>\n      <td>-2.359</td>\n    </tr>\n    <tr>\n      <th>1</th>\n      <td>1979-01-02</td>\n      <td>-79.375</td>\n      <td>43.555901</td>\n      <td>75</td>\n      <td>-2.738</td>\n      <td>-6.021</td>\n    </tr>\n    <tr>\n      <th>2</th>\n      <td>1979-01-03</td>\n      <td>-79.375</td>\n      <td>43.555901</td>\n      <td>75</td>\n      <td>-7.212</td>\n      <td>-12.742</td>\n    </tr>\n    <tr>\n      <th>3</th>\n      <td>1979-01-04</td>\n      <td>-79.375</td>\n      <td>43.555901</td>\n      <td>75</td>\n      <td>-8.569</td>\n      <td>-10.751</td>\n    </tr>\n    <tr>\n      <th>4</th>\n      <td>1979-01-05</td>\n      <td>-79.375</td>\n      <td>43.555901</td>\n      <td>75</td>\n      <td>-9.133</td>\n      <td>-13.273</td>\n    </tr>\n    <tr>\n      <th>5</th>\n      <td>1979-01-06</td>\n      <td>-79.375</td>\n      <td>43.555901</td>\n      <td>75</td>\n      <td>-5.491</td>\n      <td>-9.825</td>\n    </tr>\n    <tr>\n      <th>6</th>\n      <td>1979-01-07</td>\n      <td>-79.375</td>\n      <td>43.555901</td>\n      <td>75</td>\n      <td>-5.457</td>\n      <td>-7.792</td>\n    </tr>\n    <tr>\n      <th>7</th>\n      <td>1979-01-08</td>\n      <td>-79.375</td>\n      <td>43.555901</td>\n      <td>75</td>\n      <td>-4.451</td>\n      <td>-9.121</td>\n    </tr>\n    <tr>\n      <th>8</th>\n      <td>1979-01-09</td>\n      <td>-79.375</td>\n      <td>43.555901</td>\n      <td>75</td>\n      <td>-7.570</td>\n      <td>-11.125</td>\n    </tr>\n    <tr>\n      <th>9</th>\n      <td>1979-01-10</td>\n      <td>-79.375</td>\n      <td>43.555901</td>\n      <td>75</td>\n      <td>-7.229</td>\n      <td>-13.881</td>\n    </tr>\n    <tr>\n      <th>10</th>\n      <td>1979-01-11</td>\n      <td>-79.375</td>\n      <td>43.555901</td>\n      <td>75</td>\n      <td>-8.210</td>\n      <td>-13.821</td>\n    </tr>\n    <tr>\n      <th>11</th>\n      <td>1979-01-12</td>\n      <td>-79.375</td>\n      <td>43.555901</td>\n      <td>75</td>\n      <td>-5.769</td>\n      <td>-10.719</td>\n    </tr>\n    <tr>\n      <th>12</th>\n      <td>1979-01-13</td>\n      <td>-79.375</td>\n      <td>43.555901</td>\n      <td>75</td>\n      <td>2.143</td>\n      <td>-5.681</td>\n    </tr>\n    <tr>\n      <th>13</th>\n      <td>1979-01-14</td>\n      <td>-79.375</td>\n      <td>43.555901</td>\n      <td>75</td>\n      <td>3.107</td>\n      <td>-6.764</td>\n    </tr>\n    <tr>\n      <th>14</th>\n      <td>1979-01-15</td>\n      <td>-79.375</td>\n      <td>43.555901</td>\n      <td>75</td>\n      <td>-6.941</td>\n      <td>-11.777</td>\n    </tr>\n    <tr>\n      <th>15</th>\n      <td>1979-01-16</td>\n      <td>-79.375</td>\n      <td>43.555901</td>\n      <td>75</td>\n      <td>-5.889</td>\n      <td>-9.783</td>\n    </tr>\n    <tr>\n      <th>16</th>\n      <td>1979-01-17</td>\n      <td>-79.375</td>\n      <td>43.555901</td>\n      <td>75</td>\n      <td>0.352</td>\n      <td>-8.805</td>\n    </tr>\n    <tr>\n      <th>17</th>\n      <td>1979-01-18</td>\n      <td>-79.375</td>\n      <td>43.555901</td>\n      <td>75</td>\n      <td>-3.959</td>\n      <td>-16.686</td>\n    </tr>\n    <tr>\n      <th>18</th>\n      <td>1979-01-19</td>\n      <td>-79.375</td>\n      <td>43.555901</td>\n      <td>75</td>\n      <td>-7.307</td>\n      <td>-16.174</td>\n    </tr>\n    <tr>\n      <th>19</th>\n      <td>1979-01-20</td>\n      <td>-79.375</td>\n      <td>43.555901</td>\n      <td>75</td>\n      <td>1.198</td>\n      <td>-7.424</td>\n    </tr>\n    <tr>\n      <th>20</th>\n      <td>1979-01-21</td>\n      <td>-79.375</td>\n      <td>43.555901</td>\n      <td>75</td>\n      <td>-0.112</td>\n      <td>-3.815</td>\n    </tr>\n    <tr>\n      <th>21</th>\n      <td>1979-01-22</td>\n      <td>-79.375</td>\n      <td>43.555901</td>\n      <td>75</td>\n      <td>-0.992</td>\n      <td>-2.944</td>\n    </tr>\n    <tr>\n      <th>22</th>\n      <td>1979-01-23</td>\n      <td>-79.375</td>\n      <td>43.555901</td>\n      <td>75</td>\n      <td>-0.229</td>\n      <td>-3.118</td>\n    </tr>\n    <tr>\n      <th>23</th>\n      <td>1979-01-24</td>\n      <td>-79.375</td>\n      <td>43.555901</td>\n      <td>75</td>\n      <td>2.612</td>\n      <td>-1.983</td>\n    </tr>\n    <tr>\n      <th>24</th>\n      <td>1979-01-25</td>\n      <td>-79.375</td>\n      <td>43.555901</td>\n      <td>75</td>\n      <td>2.048</td>\n      <td>0.808</td>\n    </tr>\n    <tr>\n      <th>25</th>\n      <td>1979-01-26</td>\n      <td>-79.375</td>\n      <td>43.555901</td>\n      <td>75</td>\n      <td>1.595</td>\n      <td>0.787</td>\n    </tr>\n    <tr>\n      <th>26</th>\n      <td>1979-01-27</td>\n      <td>-79.375</td>\n      <td>43.555901</td>\n      <td>75</td>\n      <td>1.565</td>\n      <td>0.248</td>\n    </tr>\n    <tr>\n      <th>27</th>\n      <td>1979-01-28</td>\n      <td>-79.375</td>\n      <td>43.555901</td>\n      <td>75</td>\n      <td>1.594</td>\n      <td>-1.899</td>\n    </tr>\n    <tr>\n      <th>28</th>\n      <td>1979-01-29</td>\n      <td>-79.375</td>\n      <td>43.555901</td>\n      <td>75</td>\n      <td>-1.738</td>\n      <td>-3.078</td>\n    </tr>\n    <tr>\n      <th>29</th>\n      <td>1979-01-30</td>\n      <td>-79.375</td>\n      <td>43.555901</td>\n      <td>75</td>\n      <td>-2.060</td>\n      <td>-4.491</td>\n    </tr>\n    <tr>\n      <th>30</th>\n      <td>1979-01-31</td>\n      <td>-79.375</td>\n      <td>43.555901</td>\n      <td>75</td>\n      <td>-4.691</td>\n      <td>-8.699</td>\n    </tr>\n  </tbody>\n</table>\n</div>"
     },
     "metadata": {},
     "execution_count": 3
    }
   ],
   "source": [
    "toronto.iloc[0:31]"
   ]
  },
  {
   "cell_type": "code",
   "execution_count": 6,
   "metadata": {},
   "outputs": [
    {
     "output_type": "execute_result",
     "data": {
      "text/plain": [
       "         Date  Max Temperature  Min Temperature\n",
       "0  1979-01-01            7.856           -2.359\n",
       "1  1979-01-02           -2.738           -6.021\n",
       "2  1979-01-03           -7.212          -12.742\n",
       "3  1979-01-04           -8.569          -10.751\n",
       "4  1979-01-05           -9.133          -13.273\n",
       "5  1979-01-06           -5.491           -9.825\n",
       "6  1979-01-07           -5.457           -7.792\n",
       "7  1979-01-08           -4.451           -9.121\n",
       "8  1979-01-09           -7.570          -11.125\n",
       "9  1979-01-10           -7.229          -13.881\n",
       "10 1979-01-11           -8.210          -13.821\n",
       "11 1979-01-12           -5.769          -10.719\n",
       "12 1979-01-13            2.143           -5.681\n",
       "13 1979-01-14            3.107           -6.764\n",
       "14 1979-01-15           -6.941          -11.777\n",
       "15 1979-01-16           -5.889           -9.783\n",
       "16 1979-01-17            0.352           -8.805\n",
       "17 1979-01-18           -3.959          -16.686\n",
       "18 1979-01-19           -7.307          -16.174\n",
       "19 1979-01-20            1.198           -7.424\n",
       "20 1979-01-21           -0.112           -3.815\n",
       "21 1979-01-22           -0.992           -2.944\n",
       "22 1979-01-23           -0.229           -3.118\n",
       "23 1979-01-24            2.612           -1.983\n",
       "24 1979-01-25            2.048            0.808\n",
       "25 1979-01-26            1.595            0.787\n",
       "26 1979-01-27            1.565            0.248\n",
       "27 1979-01-28            1.594           -1.899\n",
       "28 1979-01-29           -1.738           -3.078\n",
       "29 1979-01-30           -2.060           -4.491\n",
       "30 1979-01-31           -4.691           -8.699"
      ],
      "text/html": "<div>\n<style scoped>\n    .dataframe tbody tr th:only-of-type {\n        vertical-align: middle;\n    }\n\n    .dataframe tbody tr th {\n        vertical-align: top;\n    }\n\n    .dataframe thead th {\n        text-align: right;\n    }\n</style>\n<table border=\"1\" class=\"dataframe\">\n  <thead>\n    <tr style=\"text-align: right;\">\n      <th></th>\n      <th>Date</th>\n      <th>Max Temperature</th>\n      <th>Min Temperature</th>\n    </tr>\n  </thead>\n  <tbody>\n    <tr>\n      <th>0</th>\n      <td>1979-01-01</td>\n      <td>7.856</td>\n      <td>-2.359</td>\n    </tr>\n    <tr>\n      <th>1</th>\n      <td>1979-01-02</td>\n      <td>-2.738</td>\n      <td>-6.021</td>\n    </tr>\n    <tr>\n      <th>2</th>\n      <td>1979-01-03</td>\n      <td>-7.212</td>\n      <td>-12.742</td>\n    </tr>\n    <tr>\n      <th>3</th>\n      <td>1979-01-04</td>\n      <td>-8.569</td>\n      <td>-10.751</td>\n    </tr>\n    <tr>\n      <th>4</th>\n      <td>1979-01-05</td>\n      <td>-9.133</td>\n      <td>-13.273</td>\n    </tr>\n    <tr>\n      <th>5</th>\n      <td>1979-01-06</td>\n      <td>-5.491</td>\n      <td>-9.825</td>\n    </tr>\n    <tr>\n      <th>6</th>\n      <td>1979-01-07</td>\n      <td>-5.457</td>\n      <td>-7.792</td>\n    </tr>\n    <tr>\n      <th>7</th>\n      <td>1979-01-08</td>\n      <td>-4.451</td>\n      <td>-9.121</td>\n    </tr>\n    <tr>\n      <th>8</th>\n      <td>1979-01-09</td>\n      <td>-7.570</td>\n      <td>-11.125</td>\n    </tr>\n    <tr>\n      <th>9</th>\n      <td>1979-01-10</td>\n      <td>-7.229</td>\n      <td>-13.881</td>\n    </tr>\n    <tr>\n      <th>10</th>\n      <td>1979-01-11</td>\n      <td>-8.210</td>\n      <td>-13.821</td>\n    </tr>\n    <tr>\n      <th>11</th>\n      <td>1979-01-12</td>\n      <td>-5.769</td>\n      <td>-10.719</td>\n    </tr>\n    <tr>\n      <th>12</th>\n      <td>1979-01-13</td>\n      <td>2.143</td>\n      <td>-5.681</td>\n    </tr>\n    <tr>\n      <th>13</th>\n      <td>1979-01-14</td>\n      <td>3.107</td>\n      <td>-6.764</td>\n    </tr>\n    <tr>\n      <th>14</th>\n      <td>1979-01-15</td>\n      <td>-6.941</td>\n      <td>-11.777</td>\n    </tr>\n    <tr>\n      <th>15</th>\n      <td>1979-01-16</td>\n      <td>-5.889</td>\n      <td>-9.783</td>\n    </tr>\n    <tr>\n      <th>16</th>\n      <td>1979-01-17</td>\n      <td>0.352</td>\n      <td>-8.805</td>\n    </tr>\n    <tr>\n      <th>17</th>\n      <td>1979-01-18</td>\n      <td>-3.959</td>\n      <td>-16.686</td>\n    </tr>\n    <tr>\n      <th>18</th>\n      <td>1979-01-19</td>\n      <td>-7.307</td>\n      <td>-16.174</td>\n    </tr>\n    <tr>\n      <th>19</th>\n      <td>1979-01-20</td>\n      <td>1.198</td>\n      <td>-7.424</td>\n    </tr>\n    <tr>\n      <th>20</th>\n      <td>1979-01-21</td>\n      <td>-0.112</td>\n      <td>-3.815</td>\n    </tr>\n    <tr>\n      <th>21</th>\n      <td>1979-01-22</td>\n      <td>-0.992</td>\n      <td>-2.944</td>\n    </tr>\n    <tr>\n      <th>22</th>\n      <td>1979-01-23</td>\n      <td>-0.229</td>\n      <td>-3.118</td>\n    </tr>\n    <tr>\n      <th>23</th>\n      <td>1979-01-24</td>\n      <td>2.612</td>\n      <td>-1.983</td>\n    </tr>\n    <tr>\n      <th>24</th>\n      <td>1979-01-25</td>\n      <td>2.048</td>\n      <td>0.808</td>\n    </tr>\n    <tr>\n      <th>25</th>\n      <td>1979-01-26</td>\n      <td>1.595</td>\n      <td>0.787</td>\n    </tr>\n    <tr>\n      <th>26</th>\n      <td>1979-01-27</td>\n      <td>1.565</td>\n      <td>0.248</td>\n    </tr>\n    <tr>\n      <th>27</th>\n      <td>1979-01-28</td>\n      <td>1.594</td>\n      <td>-1.899</td>\n    </tr>\n    <tr>\n      <th>28</th>\n      <td>1979-01-29</td>\n      <td>-1.738</td>\n      <td>-3.078</td>\n    </tr>\n    <tr>\n      <th>29</th>\n      <td>1979-01-30</td>\n      <td>-2.060</td>\n      <td>-4.491</td>\n    </tr>\n    <tr>\n      <th>30</th>\n      <td>1979-01-31</td>\n      <td>-4.691</td>\n      <td>-8.699</td>\n    </tr>\n  </tbody>\n</table>\n</div>"
     },
     "metadata": {},
     "execution_count": 6
    }
   ],
   "source": [
    "toronto.iloc[0:31,[0, 4, 5]]"
   ]
  },
  {
   "cell_type": "code",
   "execution_count": 12,
   "metadata": {},
   "outputs": [
    {
     "output_type": "execute_result",
     "data": {
      "text/plain": [
       "         Date  Longitude   Latitude  Elevation  Max Temperature  \\\n",
       "0  1979-01-01    -79.375  43.555901         75            7.856   \n",
       "1  1979-01-02    -79.375  43.555901         75           -2.738   \n",
       "2  1979-01-03    -79.375  43.555901         75           -7.212   \n",
       "3  1979-01-04    -79.375  43.555901         75           -8.569   \n",
       "4  1979-01-05    -79.375  43.555901         75           -9.133   \n",
       "5  1979-01-06    -79.375  43.555901         75           -5.491   \n",
       "6  1979-01-07    -79.375  43.555901         75           -5.457   \n",
       "7  1979-01-08    -79.375  43.555901         75           -4.451   \n",
       "8  1979-01-09    -79.375  43.555901         75           -7.570   \n",
       "9  1979-01-10    -79.375  43.555901         75           -7.229   \n",
       "10 1979-01-11    -79.375  43.555901         75           -8.210   \n",
       "11 1979-01-12    -79.375  43.555901         75           -5.769   \n",
       "12 1979-01-13    -79.375  43.555901         75            2.143   \n",
       "13 1979-01-14    -79.375  43.555901         75            3.107   \n",
       "14 1979-01-15    -79.375  43.555901         75           -6.941   \n",
       "15 1979-01-16    -79.375  43.555901         75           -5.889   \n",
       "16 1979-01-17    -79.375  43.555901         75            0.352   \n",
       "17 1979-01-18    -79.375  43.555901         75           -3.959   \n",
       "18 1979-01-19    -79.375  43.555901         75           -7.307   \n",
       "19 1979-01-20    -79.375  43.555901         75            1.198   \n",
       "20 1979-01-21    -79.375  43.555901         75           -0.112   \n",
       "21 1979-01-22    -79.375  43.555901         75           -0.992   \n",
       "22 1979-01-23    -79.375  43.555901         75           -0.229   \n",
       "23 1979-01-24    -79.375  43.555901         75            2.612   \n",
       "24 1979-01-25    -79.375  43.555901         75            2.048   \n",
       "25 1979-01-26    -79.375  43.555901         75            1.595   \n",
       "26 1979-01-27    -79.375  43.555901         75            1.565   \n",
       "27 1979-01-28    -79.375  43.555901         75            1.594   \n",
       "28 1979-01-29    -79.375  43.555901         75           -1.738   \n",
       "29 1979-01-30    -79.375  43.555901         75           -2.060   \n",
       "30 1979-01-31    -79.375  43.555901         75           -4.691   \n",
       "\n",
       "    Min Temperature  \n",
       "0            -2.359  \n",
       "1            -6.021  \n",
       "2           -12.742  \n",
       "3           -10.751  \n",
       "4           -13.273  \n",
       "5            -9.825  \n",
       "6            -7.792  \n",
       "7            -9.121  \n",
       "8           -11.125  \n",
       "9           -13.881  \n",
       "10          -13.821  \n",
       "11          -10.719  \n",
       "12           -5.681  \n",
       "13           -6.764  \n",
       "14          -11.777  \n",
       "15           -9.783  \n",
       "16           -8.805  \n",
       "17          -16.686  \n",
       "18          -16.174  \n",
       "19           -7.424  \n",
       "20           -3.815  \n",
       "21           -2.944  \n",
       "22           -3.118  \n",
       "23           -1.983  \n",
       "24            0.808  \n",
       "25            0.787  \n",
       "26            0.248  \n",
       "27           -1.899  \n",
       "28           -3.078  \n",
       "29           -4.491  \n",
       "30           -8.699  "
      ],
      "text/html": "<div>\n<style scoped>\n    .dataframe tbody tr th:only-of-type {\n        vertical-align: middle;\n    }\n\n    .dataframe tbody tr th {\n        vertical-align: top;\n    }\n\n    .dataframe thead th {\n        text-align: right;\n    }\n</style>\n<table border=\"1\" class=\"dataframe\">\n  <thead>\n    <tr style=\"text-align: right;\">\n      <th></th>\n      <th>Date</th>\n      <th>Longitude</th>\n      <th>Latitude</th>\n      <th>Elevation</th>\n      <th>Max Temperature</th>\n      <th>Min Temperature</th>\n    </tr>\n  </thead>\n  <tbody>\n    <tr>\n      <th>0</th>\n      <td>1979-01-01</td>\n      <td>-79.375</td>\n      <td>43.555901</td>\n      <td>75</td>\n      <td>7.856</td>\n      <td>-2.359</td>\n    </tr>\n    <tr>\n      <th>1</th>\n      <td>1979-01-02</td>\n      <td>-79.375</td>\n      <td>43.555901</td>\n      <td>75</td>\n      <td>-2.738</td>\n      <td>-6.021</td>\n    </tr>\n    <tr>\n      <th>2</th>\n      <td>1979-01-03</td>\n      <td>-79.375</td>\n      <td>43.555901</td>\n      <td>75</td>\n      <td>-7.212</td>\n      <td>-12.742</td>\n    </tr>\n    <tr>\n      <th>3</th>\n      <td>1979-01-04</td>\n      <td>-79.375</td>\n      <td>43.555901</td>\n      <td>75</td>\n      <td>-8.569</td>\n      <td>-10.751</td>\n    </tr>\n    <tr>\n      <th>4</th>\n      <td>1979-01-05</td>\n      <td>-79.375</td>\n      <td>43.555901</td>\n      <td>75</td>\n      <td>-9.133</td>\n      <td>-13.273</td>\n    </tr>\n    <tr>\n      <th>5</th>\n      <td>1979-01-06</td>\n      <td>-79.375</td>\n      <td>43.555901</td>\n      <td>75</td>\n      <td>-5.491</td>\n      <td>-9.825</td>\n    </tr>\n    <tr>\n      <th>6</th>\n      <td>1979-01-07</td>\n      <td>-79.375</td>\n      <td>43.555901</td>\n      <td>75</td>\n      <td>-5.457</td>\n      <td>-7.792</td>\n    </tr>\n    <tr>\n      <th>7</th>\n      <td>1979-01-08</td>\n      <td>-79.375</td>\n      <td>43.555901</td>\n      <td>75</td>\n      <td>-4.451</td>\n      <td>-9.121</td>\n    </tr>\n    <tr>\n      <th>8</th>\n      <td>1979-01-09</td>\n      <td>-79.375</td>\n      <td>43.555901</td>\n      <td>75</td>\n      <td>-7.570</td>\n      <td>-11.125</td>\n    </tr>\n    <tr>\n      <th>9</th>\n      <td>1979-01-10</td>\n      <td>-79.375</td>\n      <td>43.555901</td>\n      <td>75</td>\n      <td>-7.229</td>\n      <td>-13.881</td>\n    </tr>\n    <tr>\n      <th>10</th>\n      <td>1979-01-11</td>\n      <td>-79.375</td>\n      <td>43.555901</td>\n      <td>75</td>\n      <td>-8.210</td>\n      <td>-13.821</td>\n    </tr>\n    <tr>\n      <th>11</th>\n      <td>1979-01-12</td>\n      <td>-79.375</td>\n      <td>43.555901</td>\n      <td>75</td>\n      <td>-5.769</td>\n      <td>-10.719</td>\n    </tr>\n    <tr>\n      <th>12</th>\n      <td>1979-01-13</td>\n      <td>-79.375</td>\n      <td>43.555901</td>\n      <td>75</td>\n      <td>2.143</td>\n      <td>-5.681</td>\n    </tr>\n    <tr>\n      <th>13</th>\n      <td>1979-01-14</td>\n      <td>-79.375</td>\n      <td>43.555901</td>\n      <td>75</td>\n      <td>3.107</td>\n      <td>-6.764</td>\n    </tr>\n    <tr>\n      <th>14</th>\n      <td>1979-01-15</td>\n      <td>-79.375</td>\n      <td>43.555901</td>\n      <td>75</td>\n      <td>-6.941</td>\n      <td>-11.777</td>\n    </tr>\n    <tr>\n      <th>15</th>\n      <td>1979-01-16</td>\n      <td>-79.375</td>\n      <td>43.555901</td>\n      <td>75</td>\n      <td>-5.889</td>\n      <td>-9.783</td>\n    </tr>\n    <tr>\n      <th>16</th>\n      <td>1979-01-17</td>\n      <td>-79.375</td>\n      <td>43.555901</td>\n      <td>75</td>\n      <td>0.352</td>\n      <td>-8.805</td>\n    </tr>\n    <tr>\n      <th>17</th>\n      <td>1979-01-18</td>\n      <td>-79.375</td>\n      <td>43.555901</td>\n      <td>75</td>\n      <td>-3.959</td>\n      <td>-16.686</td>\n    </tr>\n    <tr>\n      <th>18</th>\n      <td>1979-01-19</td>\n      <td>-79.375</td>\n      <td>43.555901</td>\n      <td>75</td>\n      <td>-7.307</td>\n      <td>-16.174</td>\n    </tr>\n    <tr>\n      <th>19</th>\n      <td>1979-01-20</td>\n      <td>-79.375</td>\n      <td>43.555901</td>\n      <td>75</td>\n      <td>1.198</td>\n      <td>-7.424</td>\n    </tr>\n    <tr>\n      <th>20</th>\n      <td>1979-01-21</td>\n      <td>-79.375</td>\n      <td>43.555901</td>\n      <td>75</td>\n      <td>-0.112</td>\n      <td>-3.815</td>\n    </tr>\n    <tr>\n      <th>21</th>\n      <td>1979-01-22</td>\n      <td>-79.375</td>\n      <td>43.555901</td>\n      <td>75</td>\n      <td>-0.992</td>\n      <td>-2.944</td>\n    </tr>\n    <tr>\n      <th>22</th>\n      <td>1979-01-23</td>\n      <td>-79.375</td>\n      <td>43.555901</td>\n      <td>75</td>\n      <td>-0.229</td>\n      <td>-3.118</td>\n    </tr>\n    <tr>\n      <th>23</th>\n      <td>1979-01-24</td>\n      <td>-79.375</td>\n      <td>43.555901</td>\n      <td>75</td>\n      <td>2.612</td>\n      <td>-1.983</td>\n    </tr>\n    <tr>\n      <th>24</th>\n      <td>1979-01-25</td>\n      <td>-79.375</td>\n      <td>43.555901</td>\n      <td>75</td>\n      <td>2.048</td>\n      <td>0.808</td>\n    </tr>\n    <tr>\n      <th>25</th>\n      <td>1979-01-26</td>\n      <td>-79.375</td>\n      <td>43.555901</td>\n      <td>75</td>\n      <td>1.595</td>\n      <td>0.787</td>\n    </tr>\n    <tr>\n      <th>26</th>\n      <td>1979-01-27</td>\n      <td>-79.375</td>\n      <td>43.555901</td>\n      <td>75</td>\n      <td>1.565</td>\n      <td>0.248</td>\n    </tr>\n    <tr>\n      <th>27</th>\n      <td>1979-01-28</td>\n      <td>-79.375</td>\n      <td>43.555901</td>\n      <td>75</td>\n      <td>1.594</td>\n      <td>-1.899</td>\n    </tr>\n    <tr>\n      <th>28</th>\n      <td>1979-01-29</td>\n      <td>-79.375</td>\n      <td>43.555901</td>\n      <td>75</td>\n      <td>-1.738</td>\n      <td>-3.078</td>\n    </tr>\n    <tr>\n      <th>29</th>\n      <td>1979-01-30</td>\n      <td>-79.375</td>\n      <td>43.555901</td>\n      <td>75</td>\n      <td>-2.060</td>\n      <td>-4.491</td>\n    </tr>\n    <tr>\n      <th>30</th>\n      <td>1979-01-31</td>\n      <td>-79.375</td>\n      <td>43.555901</td>\n      <td>75</td>\n      <td>-4.691</td>\n      <td>-8.699</td>\n    </tr>\n  </tbody>\n</table>\n</div>"
     },
     "metadata": {},
     "execution_count": 12
    }
   ],
   "source": [
    "toronto.loc[toronto['Date'] < '1979-2-1']"
   ]
  },
  {
   "cell_type": "code",
   "execution_count": 14,
   "metadata": {},
   "outputs": [
    {
     "output_type": "execute_result",
     "data": {
      "text/plain": [
       "          Date  Longitude   Latitude  Elevation  Max Temperature  \\\n",
       "366 1980-01-02    -79.375  43.555901         75            1.237   \n",
       "367 1980-01-03    -79.375  43.555901         75           -2.373   \n",
       "368 1980-01-04    -79.375  43.555901         75           -3.950   \n",
       "369 1980-01-05    -79.375  43.555901         75           -3.606   \n",
       "370 1980-01-06    -79.375  43.555901         75           -2.054   \n",
       "..         ...        ...        ...        ...              ...   \n",
       "726 1980-12-27    -79.375  43.555901         75           -4.582   \n",
       "727 1980-12-28    -79.375  43.555901         75           -1.204   \n",
       "728 1980-12-29    -79.375  43.555901         75           -0.513   \n",
       "729 1980-12-30    -79.375  43.555901         75           -1.498   \n",
       "730 1980-12-31    -79.375  43.555901         75           -8.273   \n",
       "\n",
       "     Min Temperature  \n",
       "366           -1.905  \n",
       "367           -7.739  \n",
       "368           -8.717  \n",
       "369           -6.476  \n",
       "370           -7.426  \n",
       "..               ...  \n",
       "726           -8.505  \n",
       "727           -7.209  \n",
       "728           -1.497  \n",
       "729          -13.730  \n",
       "730          -13.844  \n",
       "\n",
       "[365 rows x 6 columns]"
      ],
      "text/html": "<div>\n<style scoped>\n    .dataframe tbody tr th:only-of-type {\n        vertical-align: middle;\n    }\n\n    .dataframe tbody tr th {\n        vertical-align: top;\n    }\n\n    .dataframe thead th {\n        text-align: right;\n    }\n</style>\n<table border=\"1\" class=\"dataframe\">\n  <thead>\n    <tr style=\"text-align: right;\">\n      <th></th>\n      <th>Date</th>\n      <th>Longitude</th>\n      <th>Latitude</th>\n      <th>Elevation</th>\n      <th>Max Temperature</th>\n      <th>Min Temperature</th>\n    </tr>\n  </thead>\n  <tbody>\n    <tr>\n      <th>366</th>\n      <td>1980-01-02</td>\n      <td>-79.375</td>\n      <td>43.555901</td>\n      <td>75</td>\n      <td>1.237</td>\n      <td>-1.905</td>\n    </tr>\n    <tr>\n      <th>367</th>\n      <td>1980-01-03</td>\n      <td>-79.375</td>\n      <td>43.555901</td>\n      <td>75</td>\n      <td>-2.373</td>\n      <td>-7.739</td>\n    </tr>\n    <tr>\n      <th>368</th>\n      <td>1980-01-04</td>\n      <td>-79.375</td>\n      <td>43.555901</td>\n      <td>75</td>\n      <td>-3.950</td>\n      <td>-8.717</td>\n    </tr>\n    <tr>\n      <th>369</th>\n      <td>1980-01-05</td>\n      <td>-79.375</td>\n      <td>43.555901</td>\n      <td>75</td>\n      <td>-3.606</td>\n      <td>-6.476</td>\n    </tr>\n    <tr>\n      <th>370</th>\n      <td>1980-01-06</td>\n      <td>-79.375</td>\n      <td>43.555901</td>\n      <td>75</td>\n      <td>-2.054</td>\n      <td>-7.426</td>\n    </tr>\n    <tr>\n      <th>...</th>\n      <td>...</td>\n      <td>...</td>\n      <td>...</td>\n      <td>...</td>\n      <td>...</td>\n      <td>...</td>\n    </tr>\n    <tr>\n      <th>726</th>\n      <td>1980-12-27</td>\n      <td>-79.375</td>\n      <td>43.555901</td>\n      <td>75</td>\n      <td>-4.582</td>\n      <td>-8.505</td>\n    </tr>\n    <tr>\n      <th>727</th>\n      <td>1980-12-28</td>\n      <td>-79.375</td>\n      <td>43.555901</td>\n      <td>75</td>\n      <td>-1.204</td>\n      <td>-7.209</td>\n    </tr>\n    <tr>\n      <th>728</th>\n      <td>1980-12-29</td>\n      <td>-79.375</td>\n      <td>43.555901</td>\n      <td>75</td>\n      <td>-0.513</td>\n      <td>-1.497</td>\n    </tr>\n    <tr>\n      <th>729</th>\n      <td>1980-12-30</td>\n      <td>-79.375</td>\n      <td>43.555901</td>\n      <td>75</td>\n      <td>-1.498</td>\n      <td>-13.730</td>\n    </tr>\n    <tr>\n      <th>730</th>\n      <td>1980-12-31</td>\n      <td>-79.375</td>\n      <td>43.555901</td>\n      <td>75</td>\n      <td>-8.273</td>\n      <td>-13.844</td>\n    </tr>\n  </tbody>\n</table>\n<p>365 rows × 6 columns</p>\n</div>"
     },
     "metadata": {},
     "execution_count": 14
    }
   ],
   "source": [
    "toronto.loc[(toronto['Date'] > '1980-1-1') & (toronto['Date'] < '1981-1-1')]"
   ]
  },
  {
   "cell_type": "code",
   "execution_count": 15,
   "metadata": {},
   "outputs": [
    {
     "output_type": "execute_result",
     "data": {
      "text/plain": [
       "366    1.237\n",
       "367   -2.373\n",
       "368   -3.950\n",
       "369   -3.606\n",
       "370   -2.054\n",
       "       ...  \n",
       "726   -4.582\n",
       "727   -1.204\n",
       "728   -0.513\n",
       "729   -1.498\n",
       "730   -8.273\n",
       "Name: Max Temperature, Length: 365, dtype: float64"
      ]
     },
     "metadata": {},
     "execution_count": 15
    }
   ],
   "source": [
    "toronto.loc[(toronto['Date'] > '1980-1-1') & (toronto['Date'] < '1981-1-1'), \"Max Temperature\"]"
   ]
  },
  {
   "cell_type": "code",
   "execution_count": null,
   "metadata": {},
   "outputs": [],
   "source": []
  }
 ]
}