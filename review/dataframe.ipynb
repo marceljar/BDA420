{
 "metadata": {
  "language_info": {
   "codemirror_mode": {
    "name": "ipython",
    "version": 3
   },
   "file_extension": ".py",
   "mimetype": "text/x-python",
   "name": "python",
   "nbconvert_exporter": "python",
   "pygments_lexer": "ipython3",
   "version": "3.8.1-final"
  },
  "orig_nbformat": 2,
  "kernelspec": {
   "name": "python3",
   "display_name": "Python 3"
  }
 },
 "nbformat": 4,
 "nbformat_minor": 2,
 "cells": [
  {
   "cell_type": "code",
   "execution_count": 16,
   "metadata": {},
   "outputs": [],
   "source": [
    "import pandas as pd\n",
    "import numpy as np"
   ]
  },
  {
   "cell_type": "code",
   "execution_count": 17,
   "metadata": {},
   "outputs": [],
   "source": [
    "students_dict = {\"name\" : [\"karen\", \"jean\", \"moe\", \"kim\"], \"lab 1\" : [3, 2.5, 2, 1.5], \"lab 2\" : [2.8,3.0, 2.8, 1.5], \"lab 3\" : [3,2.9, 2, 1.5], \"test 1\" : [10.0, 9.0, 6.5, None]}\n",
    "students = pd.DataFrame(students_dict)\n",
    "students.set_index(\"name\", inplace = True)"
   ]
  },
  {
   "cell_type": "code",
   "execution_count": 18,
   "metadata": {},
   "outputs": [
    {
     "output_type": "execute_result",
     "data": {
      "text/plain": [
       "          lab 1     lab 2     lab 3     test 1\n",
       "count  4.000000  4.000000  4.000000   3.000000\n",
       "mean   2.250000  2.525000  2.350000   8.500000\n",
       "std    0.645497  0.689807  0.723418   1.802776\n",
       "min    1.500000  1.500000  1.500000   6.500000\n",
       "25%    1.875000  2.475000  1.875000   7.750000\n",
       "50%    2.250000  2.800000  2.450000   9.000000\n",
       "75%    2.625000  2.850000  2.925000   9.500000\n",
       "max    3.000000  3.000000  3.000000  10.000000"
      ],
      "text/html": "<div>\n<style scoped>\n    .dataframe tbody tr th:only-of-type {\n        vertical-align: middle;\n    }\n\n    .dataframe tbody tr th {\n        vertical-align: top;\n    }\n\n    .dataframe thead th {\n        text-align: right;\n    }\n</style>\n<table border=\"1\" class=\"dataframe\">\n  <thead>\n    <tr style=\"text-align: right;\">\n      <th></th>\n      <th>lab 1</th>\n      <th>lab 2</th>\n      <th>lab 3</th>\n      <th>test 1</th>\n    </tr>\n  </thead>\n  <tbody>\n    <tr>\n      <th>count</th>\n      <td>4.000000</td>\n      <td>4.000000</td>\n      <td>4.000000</td>\n      <td>3.000000</td>\n    </tr>\n    <tr>\n      <th>mean</th>\n      <td>2.250000</td>\n      <td>2.525000</td>\n      <td>2.350000</td>\n      <td>8.500000</td>\n    </tr>\n    <tr>\n      <th>std</th>\n      <td>0.645497</td>\n      <td>0.689807</td>\n      <td>0.723418</td>\n      <td>1.802776</td>\n    </tr>\n    <tr>\n      <th>min</th>\n      <td>1.500000</td>\n      <td>1.500000</td>\n      <td>1.500000</td>\n      <td>6.500000</td>\n    </tr>\n    <tr>\n      <th>25%</th>\n      <td>1.875000</td>\n      <td>2.475000</td>\n      <td>1.875000</td>\n      <td>7.750000</td>\n    </tr>\n    <tr>\n      <th>50%</th>\n      <td>2.250000</td>\n      <td>2.800000</td>\n      <td>2.450000</td>\n      <td>9.000000</td>\n    </tr>\n    <tr>\n      <th>75%</th>\n      <td>2.625000</td>\n      <td>2.850000</td>\n      <td>2.925000</td>\n      <td>9.500000</td>\n    </tr>\n    <tr>\n      <th>max</th>\n      <td>3.000000</td>\n      <td>3.000000</td>\n      <td>3.000000</td>\n      <td>10.000000</td>\n    </tr>\n  </tbody>\n</table>\n</div>"
     },
     "metadata": {},
     "execution_count": 18
    }
   ],
   "source": [
    "students.describe()"
   ]
  },
  {
   "cell_type": "code",
   "execution_count": 19,
   "metadata": {},
   "outputs": [
    {
     "output_type": "execute_result",
     "data": {
      "text/plain": [
       "Index(['lab 1', 'lab 2', 'lab 3', 'test 1'], dtype='object')"
      ]
     },
     "metadata": {},
     "execution_count": 19
    }
   ],
   "source": [
    "students.columns"
   ]
  },
  {
   "cell_type": "code",
   "execution_count": 20,
   "metadata": {},
   "outputs": [
    {
     "output_type": "execute_result",
     "data": {
      "text/plain": [
       "          lab 1  lab 2  lab 3  test 1\n",
       "name                                 \n",
       "karen       3.0    2.8    3.0    10.0\n",
       "jean        2.5    3.0    2.9     9.0\n",
       "mohammed    2.0    2.8    2.0     6.5\n",
       "kim         1.5    1.5    1.5     NaN"
      ],
      "text/html": "<div>\n<style scoped>\n    .dataframe tbody tr th:only-of-type {\n        vertical-align: middle;\n    }\n\n    .dataframe tbody tr th {\n        vertical-align: top;\n    }\n\n    .dataframe thead th {\n        text-align: right;\n    }\n</style>\n<table border=\"1\" class=\"dataframe\">\n  <thead>\n    <tr style=\"text-align: right;\">\n      <th></th>\n      <th>lab 1</th>\n      <th>lab 2</th>\n      <th>lab 3</th>\n      <th>test 1</th>\n    </tr>\n    <tr>\n      <th>name</th>\n      <th></th>\n      <th></th>\n      <th></th>\n      <th></th>\n    </tr>\n  </thead>\n  <tbody>\n    <tr>\n      <th>karen</th>\n      <td>3.0</td>\n      <td>2.8</td>\n      <td>3.0</td>\n      <td>10.0</td>\n    </tr>\n    <tr>\n      <th>jean</th>\n      <td>2.5</td>\n      <td>3.0</td>\n      <td>2.9</td>\n      <td>9.0</td>\n    </tr>\n    <tr>\n      <th>mohammed</th>\n      <td>2.0</td>\n      <td>2.8</td>\n      <td>2.0</td>\n      <td>6.5</td>\n    </tr>\n    <tr>\n      <th>kim</th>\n      <td>1.5</td>\n      <td>1.5</td>\n      <td>1.5</td>\n      <td>NaN</td>\n    </tr>\n  </tbody>\n</table>\n</div>"
     },
     "metadata": {},
     "execution_count": 20
    }
   ],
   "source": [
    "students.head()"
   ]
  },
  {
   "cell_type": "code",
   "execution_count": 21,
   "metadata": {},
   "outputs": [
    {
     "output_type": "execute_result",
     "data": {
      "text/plain": [
       "          lab 1  lab 2  lab 3  test 1  lab 4\n",
       "name                                        \n",
       "karen       3.0    2.8    3.0    10.0    3.0\n",
       "jean        2.5    3.0    2.9     9.0    2.9\n",
       "mohammed    2.0    2.8    2.0     6.5    2.5\n",
       "kim         1.5    1.5    1.5     NaN    2.0"
      ],
      "text/html": "<div>\n<style scoped>\n    .dataframe tbody tr th:only-of-type {\n        vertical-align: middle;\n    }\n\n    .dataframe tbody tr th {\n        vertical-align: top;\n    }\n\n    .dataframe thead th {\n        text-align: right;\n    }\n</style>\n<table border=\"1\" class=\"dataframe\">\n  <thead>\n    <tr style=\"text-align: right;\">\n      <th></th>\n      <th>lab 1</th>\n      <th>lab 2</th>\n      <th>lab 3</th>\n      <th>test 1</th>\n      <th>lab 4</th>\n    </tr>\n    <tr>\n      <th>name</th>\n      <th></th>\n      <th></th>\n      <th></th>\n      <th></th>\n      <th></th>\n    </tr>\n  </thead>\n  <tbody>\n    <tr>\n      <th>karen</th>\n      <td>3.0</td>\n      <td>2.8</td>\n      <td>3.0</td>\n      <td>10.0</td>\n      <td>3.0</td>\n    </tr>\n    <tr>\n      <th>jean</th>\n      <td>2.5</td>\n      <td>3.0</td>\n      <td>2.9</td>\n      <td>9.0</td>\n      <td>2.9</td>\n    </tr>\n    <tr>\n      <th>mohammed</th>\n      <td>2.0</td>\n      <td>2.8</td>\n      <td>2.0</td>\n      <td>6.5</td>\n      <td>2.5</td>\n    </tr>\n    <tr>\n      <th>kim</th>\n      <td>1.5</td>\n      <td>1.5</td>\n      <td>1.5</td>\n      <td>NaN</td>\n      <td>2.0</td>\n    </tr>\n  </tbody>\n</table>\n</div>"
     },
     "metadata": {},
     "execution_count": 21
    }
   ],
   "source": [
    "students[\"lab 4\"] = [3.0, 2.9, 2.5, 2.0]\n",
    "students.head()"
   ]
  },
  {
   "cell_type": "code",
   "execution_count": 27,
   "metadata": {},
   "outputs": [
    {
     "output_type": "execute_result",
     "data": {
      "text/plain": [
       "       name  lab 1  lab 2  lab 3  test 1\n",
       "0     karen    3.0    2.8    3.0    10.0\n",
       "1      jean    2.5    3.0    2.9     9.0\n",
       "2  mohammed    2.0    2.8    2.0     6.5\n",
       "3       kim    1.5    1.5    1.5     NaN"
      ],
      "text/html": "<div>\n<style scoped>\n    .dataframe tbody tr th:only-of-type {\n        vertical-align: middle;\n    }\n\n    .dataframe tbody tr th {\n        vertical-align: top;\n    }\n\n    .dataframe thead th {\n        text-align: right;\n    }\n</style>\n<table border=\"1\" class=\"dataframe\">\n  <thead>\n    <tr style=\"text-align: right;\">\n      <th></th>\n      <th>name</th>\n      <th>lab 1</th>\n      <th>lab 2</th>\n      <th>lab 3</th>\n      <th>test 1</th>\n    </tr>\n  </thead>\n  <tbody>\n    <tr>\n      <th>0</th>\n      <td>karen</td>\n      <td>3.0</td>\n      <td>2.8</td>\n      <td>3.0</td>\n      <td>10.0</td>\n    </tr>\n    <tr>\n      <th>1</th>\n      <td>jean</td>\n      <td>2.5</td>\n      <td>3.0</td>\n      <td>2.9</td>\n      <td>9.0</td>\n    </tr>\n    <tr>\n      <th>2</th>\n      <td>mohammed</td>\n      <td>2.0</td>\n      <td>2.8</td>\n      <td>2.0</td>\n      <td>6.5</td>\n    </tr>\n    <tr>\n      <th>3</th>\n      <td>kim</td>\n      <td>1.5</td>\n      <td>1.5</td>\n      <td>1.5</td>\n      <td>NaN</td>\n    </tr>\n  </tbody>\n</table>\n</div>"
     },
     "metadata": {},
     "execution_count": 27
    }
   ],
   "source": [
    "students.drop(columns=[\"lab 4\"], inplace = True)\n",
    "students.head()"
   ]
  },
  {
   "cell_type": "code",
   "execution_count": 22,
   "metadata": {},
   "outputs": [],
   "source": [
    "students[\"sum labs\"] = students[\"lab 1\"] + students[\"lab 2\"] + students[\"lab 3\"] + students[\"lab 4\"]"
   ]
  },
  {
   "cell_type": "code",
   "execution_count": 23,
   "metadata": {},
   "outputs": [
    {
     "output_type": "execute_result",
     "data": {
      "text/plain": [
       "          lab 1  lab 2  lab 3  test 1  lab 4  sum labs\n",
       "name                                                  \n",
       "karen       3.0    2.8    3.0    10.0    3.0      11.8\n",
       "jean        2.5    3.0    2.9     9.0    2.9      11.3\n",
       "mohammed    2.0    2.8    2.0     6.5    2.5       9.3\n",
       "kim         1.5    1.5    1.5     NaN    2.0       6.5"
      ],
      "text/html": "<div>\n<style scoped>\n    .dataframe tbody tr th:only-of-type {\n        vertical-align: middle;\n    }\n\n    .dataframe tbody tr th {\n        vertical-align: top;\n    }\n\n    .dataframe thead th {\n        text-align: right;\n    }\n</style>\n<table border=\"1\" class=\"dataframe\">\n  <thead>\n    <tr style=\"text-align: right;\">\n      <th></th>\n      <th>lab 1</th>\n      <th>lab 2</th>\n      <th>lab 3</th>\n      <th>test 1</th>\n      <th>lab 4</th>\n      <th>sum labs</th>\n    </tr>\n    <tr>\n      <th>name</th>\n      <th></th>\n      <th></th>\n      <th></th>\n      <th></th>\n      <th></th>\n      <th></th>\n    </tr>\n  </thead>\n  <tbody>\n    <tr>\n      <th>karen</th>\n      <td>3.0</td>\n      <td>2.8</td>\n      <td>3.0</td>\n      <td>10.0</td>\n      <td>3.0</td>\n      <td>11.8</td>\n    </tr>\n    <tr>\n      <th>jean</th>\n      <td>2.5</td>\n      <td>3.0</td>\n      <td>2.9</td>\n      <td>9.0</td>\n      <td>2.9</td>\n      <td>11.3</td>\n    </tr>\n    <tr>\n      <th>mohammed</th>\n      <td>2.0</td>\n      <td>2.8</td>\n      <td>2.0</td>\n      <td>6.5</td>\n      <td>2.5</td>\n      <td>9.3</td>\n    </tr>\n    <tr>\n      <th>kim</th>\n      <td>1.5</td>\n      <td>1.5</td>\n      <td>1.5</td>\n      <td>NaN</td>\n      <td>2.0</td>\n      <td>6.5</td>\n    </tr>\n  </tbody>\n</table>\n</div>"
     },
     "metadata": {},
     "execution_count": 23
    }
   ],
   "source": [
    "students.head()"
   ]
  },
  {
   "cell_type": "code",
   "execution_count": 24,
   "metadata": {},
   "outputs": [
    {
     "output_type": "execute_result",
     "data": {
      "text/plain": [
       "0.9958705948858223"
      ]
     },
     "metadata": {},
     "execution_count": 24
    }
   ],
   "source": [
    "students[\"sum labs\"].corr(students[\"test 1\"])"
   ]
  },
  {
   "cell_type": "code",
   "execution_count": 25,
   "metadata": {},
   "outputs": [
    {
     "output_type": "execute_result",
     "data": {
      "text/plain": [
       "          lab 1  lab 2  lab 3  test 1  lab 4  sum labs\n",
       "name                                                  \n",
       "karen       3.0    2.8    3.0    10.0    3.0      11.8\n",
       "jean        2.5    3.0    2.9     9.0    2.9      11.3\n",
       "mohammed    2.0    2.8    2.0     6.5    2.5       9.3\n",
       "kim         1.5    1.5    1.5     4.0    2.0       6.5"
      ],
      "text/html": "<div>\n<style scoped>\n    .dataframe tbody tr th:only-of-type {\n        vertical-align: middle;\n    }\n\n    .dataframe tbody tr th {\n        vertical-align: top;\n    }\n\n    .dataframe thead th {\n        text-align: right;\n    }\n</style>\n<table border=\"1\" class=\"dataframe\">\n  <thead>\n    <tr style=\"text-align: right;\">\n      <th></th>\n      <th>lab 1</th>\n      <th>lab 2</th>\n      <th>lab 3</th>\n      <th>test 1</th>\n      <th>lab 4</th>\n      <th>sum labs</th>\n    </tr>\n    <tr>\n      <th>name</th>\n      <th></th>\n      <th></th>\n      <th></th>\n      <th></th>\n      <th></th>\n      <th></th>\n    </tr>\n  </thead>\n  <tbody>\n    <tr>\n      <th>karen</th>\n      <td>3.0</td>\n      <td>2.8</td>\n      <td>3.0</td>\n      <td>10.0</td>\n      <td>3.0</td>\n      <td>11.8</td>\n    </tr>\n    <tr>\n      <th>jean</th>\n      <td>2.5</td>\n      <td>3.0</td>\n      <td>2.9</td>\n      <td>9.0</td>\n      <td>2.9</td>\n      <td>11.3</td>\n    </tr>\n    <tr>\n      <th>mohammed</th>\n      <td>2.0</td>\n      <td>2.8</td>\n      <td>2.0</td>\n      <td>6.5</td>\n      <td>2.5</td>\n      <td>9.3</td>\n    </tr>\n    <tr>\n      <th>kim</th>\n      <td>1.5</td>\n      <td>1.5</td>\n      <td>1.5</td>\n      <td>4.0</td>\n      <td>2.0</td>\n      <td>6.5</td>\n    </tr>\n  </tbody>\n</table>\n</div>"
     },
     "metadata": {},
     "execution_count": 25
    }
   ],
   "source": [
    "students.at[\"kim\", \"test 1\"] = 4.0\n",
    "students.head()"
   ]
  },
  {
   "cell_type": "code",
   "execution_count": 26,
   "metadata": {},
   "outputs": [
    {
     "output_type": "execute_result",
     "data": {
      "text/plain": [
       "          lab 1  lab 2  lab 3  test 1  lab 4  sum labs\n",
       "name                                                  \n",
       "kim         1.5    1.5    1.5     4.0    2.0       6.5\n",
       "mohammed    2.0    2.8    2.0     6.5    2.5       9.3\n",
       "jean        2.5    3.0    2.9     9.0    2.9      11.3\n",
       "karen       3.0    2.8    3.0    10.0    3.0      11.8"
      ],
      "text/html": "<div>\n<style scoped>\n    .dataframe tbody tr th:only-of-type {\n        vertical-align: middle;\n    }\n\n    .dataframe tbody tr th {\n        vertical-align: top;\n    }\n\n    .dataframe thead th {\n        text-align: right;\n    }\n</style>\n<table border=\"1\" class=\"dataframe\">\n  <thead>\n    <tr style=\"text-align: right;\">\n      <th></th>\n      <th>lab 1</th>\n      <th>lab 2</th>\n      <th>lab 3</th>\n      <th>test 1</th>\n      <th>lab 4</th>\n      <th>sum labs</th>\n    </tr>\n    <tr>\n      <th>name</th>\n      <th></th>\n      <th></th>\n      <th></th>\n      <th></th>\n      <th></th>\n      <th></th>\n    </tr>\n  </thead>\n  <tbody>\n    <tr>\n      <th>kim</th>\n      <td>1.5</td>\n      <td>1.5</td>\n      <td>1.5</td>\n      <td>4.0</td>\n      <td>2.0</td>\n      <td>6.5</td>\n    </tr>\n    <tr>\n      <th>mohammed</th>\n      <td>2.0</td>\n      <td>2.8</td>\n      <td>2.0</td>\n      <td>6.5</td>\n      <td>2.5</td>\n      <td>9.3</td>\n    </tr>\n    <tr>\n      <th>jean</th>\n      <td>2.5</td>\n      <td>3.0</td>\n      <td>2.9</td>\n      <td>9.0</td>\n      <td>2.9</td>\n      <td>11.3</td>\n    </tr>\n    <tr>\n      <th>karen</th>\n      <td>3.0</td>\n      <td>2.8</td>\n      <td>3.0</td>\n      <td>10.0</td>\n      <td>3.0</td>\n      <td>11.8</td>\n    </tr>\n  </tbody>\n</table>\n</div>"
     },
     "metadata": {},
     "execution_count": 26
    }
   ],
   "source": [
    "students.sort_values(by = \"test 1\", ascending = True)"
   ]
  },
  {
   "cell_type": "code",
   "execution_count": null,
   "metadata": {},
   "outputs": [],
   "source": []
  }
 ]
}