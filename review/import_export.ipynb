{
 "metadata": {
  "language_info": {
   "codemirror_mode": {
    "name": "ipython",
    "version": 3
   },
   "file_extension": ".py",
   "mimetype": "text/x-python",
   "name": "python",
   "nbconvert_exporter": "python",
   "pygments_lexer": "ipython3",
   "version": "3.8.1-final"
  },
  "orig_nbformat": 2,
  "kernelspec": {
   "name": "python3",
   "display_name": "Python 3"
  }
 },
 "nbformat": 4,
 "nbformat_minor": 2,
 "cells": [
  {
   "cell_type": "code",
   "execution_count": 1,
   "metadata": {},
   "outputs": [],
   "source": [
    "import pandas as pd"
   ]
  },
  {
   "source": [
    "#### Reading data from csv files"
   ],
   "cell_type": "markdown",
   "metadata": {}
  },
  {
   "cell_type": "code",
   "execution_count": 2,
   "metadata": {},
   "outputs": [],
   "source": [
    "toronto = pd.read_csv(\"../data/Toronto.csv\", parse_dates=[\"Date\"], index_col=False) # prevents errors due to malformed data\n",
    "#toronto.set_index('Date', inplace=True)\n",
    "montreal = pd.read_csv(\"../data/Montreal.csv\", parse_dates=[\"Date\"], index_col=False)"
   ]
  },
  {
   "source": [
    "#### Saving data to csv files"
   ],
   "cell_type": "markdown",
   "metadata": {}
  },
  {
   "cell_type": "code",
   "execution_count": 3,
   "metadata": {},
   "outputs": [
    {
     "output_type": "execute_result",
     "data": {
      "text/plain": [
       "<bound method NDFrame.describe of      name    role\n",
       "0    john   voice\n",
       "1    paul    bass\n",
       "2  george  guitar\n",
       "3   ringo   drums>"
      ]
     },
     "metadata": {},
     "execution_count": 3
    }
   ],
   "source": [
    "beatles = {\"name\" : [\"john\", \"paul\", \"george\", \"ringo\"], \"role\" : [\"voice\", \"bass\", \"guitar\", \"drums\"]}\n",
    "beatles_df = pd.DataFrame(beatles)\n",
    "beatles_df.to_csv('../data/beatles.csv', index = False, header = True)\n",
    "beatles_df.describe"
   ]
  },
  {
   "cell_type": "code",
   "execution_count": null,
   "metadata": {},
   "outputs": [],
   "source": []
  }
 ]
}