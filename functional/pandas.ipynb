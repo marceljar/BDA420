{
 "metadata": {
  "language_info": {
   "codemirror_mode": {
    "name": "ipython",
    "version": 3
   },
   "file_extension": ".py",
   "mimetype": "text/x-python",
   "name": "python",
   "nbconvert_exporter": "python",
   "pygments_lexer": "ipython3",
   "version": "3.8.1-final"
  },
  "orig_nbformat": 2,
  "kernelspec": {
   "name": "python3",
   "display_name": "Python 3"
  }
 },
 "nbformat": 4,
 "nbformat_minor": 2,
 "cells": [
  {
   "cell_type": "code",
   "execution_count": null,
   "metadata": {},
   "outputs": [],
   "source": [
    "import pandas as pd\n",
    "df = pd.DataFrame([[1, 2, 3], [4, 5, 6], [7, 8, 9]],columns=['A', 'B', 'C'])\n",
    "df2 = df.apply(lambda x: x*x)\n",
    "display(df2)\n",
    "df3 = df[\"A\"].apply(lambda x: x*x)\n",
    "display(df3)"
   ]
  },
  {
   "cell_type": "code",
   "execution_count": 1,
   "metadata": {},
   "outputs": [
    {
     "output_type": "execute_result",
     "data": {
      "text/plain": [
       "366    1.237\n",
       "367   -2.373\n",
       "368   -3.950\n",
       "369   -3.606\n",
       "370   -2.054\n",
       "       ...  \n",
       "726   -4.582\n",
       "727   -1.204\n",
       "728   -0.513\n",
       "729   -1.498\n",
       "730   -8.273\n",
       "Name: Max Temperature, Length: 365, dtype: float64"
      ]
     },
     "metadata": {},
     "execution_count": 1
    }
   ],
   "source": [
    "import pandas as pd \n",
    "\t\n",
    "toronto = pd.read_csv(\"../data/Toronto.csv\",                                 parse_dates=[\"Date\"], \n",
    "                       index_col=False) \n",
    "\t\n",
    "toronto.loc[toronto['Date'] < '1979-2-1']    \n",
    "\t\n",
    "toronto.loc[(toronto['Date'] > '1980-1-1') & \t\n",
    "             (toronto['Date'] < '1981-1-1')]\n",
    "\t\n",
    "toronto.loc[(toronto['Date'] > '1980-1-1') & \t\n",
    "              (toronto['Date'] < '1981-1-1'), \"Max Temperature\"]"
   ]
  },
  {
   "cell_type": "code",
   "execution_count": 2,
   "metadata": {},
   "outputs": [
    {
     "output_type": "execute_result",
     "data": {
      "text/plain": [
       "Date  Date\n",
       "1979  1       -2.634742\n",
       "      2       -7.118679\n",
       "      3        3.469226\n",
       "      4        5.817033\n",
       "      5        9.781645\n",
       "      6       16.318867\n",
       "      7       20.709968\n",
       "      8       21.620484\n",
       "      9       19.173700\n",
       "      10      12.084516\n",
       "      11       7.770367\n",
       "      12       2.173194\n",
       "Name: Max Temperature, dtype: float64"
      ]
     },
     "metadata": {},
     "execution_count": 2
    }
   ],
   "source": [
    "\t\n",
    "import pandas as pd\n",
    "\t\n",
    "toronto = pd.read_csv(\"../data/Toronto.csv\",     parse_dates=[\"Date\"], index_col=False)\n",
    "\n",
    "monthly = toronto.groupby([toronto['Date'].dt.year,\t\n",
    "toronto['Date'].dt.month])[\"Max Temperature\"].mean()\n",
    "\t\n",
    "monthly.head(12)"
   ]
  },
  {
   "cell_type": "code",
   "execution_count": null,
   "metadata": {},
   "outputs": [],
   "source": []
  }
 ]
}